{
 "cells": [
  {
   "cell_type": "markdown",
   "metadata": {},
   "source": [
    "### MNIST Hand-Written Digit Recognition\n",
    "\n",
    "The MNIST database (Modified National Institute of Standards and Technology database) is a large database of handwritten digits that is commonly used for training various image processing systems. (Wikipedia) \n",
    "\n",
    "\n",
    "After completing this tutorial you will be able to implement and train a neural network with two hidden layers, that can recognize digit of an image with accuracy more than 90%."
   ]
  },
  {
   "cell_type": "markdown",
   "metadata": {},
   "source": [
    "#### Data and Helper Functions\n",
    "First we need to import the libraries we will be using."
   ]
  },
  {
   "cell_type": "code",
   "execution_count": 1,
   "metadata": {},
   "outputs": [],
   "source": [
    "import numpy as np                     # numpy is a standard library for numerical \n",
    "                                       # computations\n",
    "np.random.seed(0)\n",
    "    \n",
    "import tensorflow as tf                # deep learning library, in this tutorial \n",
    "                                       # we will use it only to download the data\n",
    "import matplotlib.pyplot as plt        # matplotlib.pyplot is a plotting library "
   ]
  },
  {
   "cell_type": "markdown",
   "metadata": {},
   "source": [
    "Second we need to load the data. It consist of the images and labels. Each image is 28 by 28 pixels and is stored as a flattened `np.array` of length 784 (28 * 28). Each label is a single number from 0 to 9. The data is split into train and test set, which are used for training and evaluating the network respectively. "
   ]
  },
  {
   "cell_type": "code",
   "execution_count": 2,
   "metadata": {},
   "outputs": [
    {
     "name": "stdout",
     "output_type": "stream",
     "text": [
      "WARNING:tensorflow:From <ipython-input-2-0cbf978cbc0d>:2: load_dataset (from tensorflow.contrib.learn.python.learn.datasets) is deprecated and will be removed in a future version.\n",
      "Instructions for updating:\n",
      "Please use tf.data.\n",
      "WARNING:tensorflow:From C:\\WinPython\\python-3.7.0b3.amd64\\lib\\site-packages\\tensorflow\\contrib\\learn\\python\\learn\\datasets\\__init__.py:80: load_mnist (from tensorflow.contrib.learn.python.learn.datasets.mnist) is deprecated and will be removed in a future version.\n",
      "Instructions for updating:\n",
      "Please use alternatives such as official/mnist/dataset.py from tensorflow/models.\n",
      "WARNING:tensorflow:From C:\\WinPython\\python-3.7.0b3.amd64\\lib\\site-packages\\tensorflow\\contrib\\learn\\python\\learn\\datasets\\mnist.py:300: read_data_sets (from tensorflow.contrib.learn.python.learn.datasets.mnist) is deprecated and will be removed in a future version.\n",
      "Instructions for updating:\n",
      "Please use alternatives such as official/mnist/dataset.py from tensorflow/models.\n",
      "WARNING:tensorflow:From C:\\WinPython\\python-3.7.0b3.amd64\\lib\\site-packages\\tensorflow\\contrib\\learn\\python\\learn\\datasets\\mnist.py:260: maybe_download (from tensorflow.contrib.learn.python.learn.datasets.base) is deprecated and will be removed in a future version.\n",
      "Instructions for updating:\n",
      "Please write your own downloading logic.\n",
      "WARNING:tensorflow:From C:\\WinPython\\python-3.7.0b3.amd64\\lib\\site-packages\\tensorflow\\contrib\\learn\\python\\learn\\datasets\\mnist.py:262: extract_images (from tensorflow.contrib.learn.python.learn.datasets.mnist) is deprecated and will be removed in a future version.\n",
      "Instructions for updating:\n",
      "Please use tf.data to implement this functionality.\n",
      "Extracting MNIST-data\\train-images-idx3-ubyte.gz\n",
      "WARNING:tensorflow:From C:\\WinPython\\python-3.7.0b3.amd64\\lib\\site-packages\\tensorflow\\contrib\\learn\\python\\learn\\datasets\\mnist.py:267: extract_labels (from tensorflow.contrib.learn.python.learn.datasets.mnist) is deprecated and will be removed in a future version.\n",
      "Instructions for updating:\n",
      "Please use tf.data to implement this functionality.\n",
      "Extracting MNIST-data\\train-labels-idx1-ubyte.gz\n",
      "Extracting MNIST-data\\t10k-images-idx3-ubyte.gz\n",
      "Extracting MNIST-data\\t10k-labels-idx1-ubyte.gz\n",
      "WARNING:tensorflow:From C:\\WinPython\\python-3.7.0b3.amd64\\lib\\site-packages\\tensorflow\\contrib\\learn\\python\\learn\\datasets\\mnist.py:290: DataSet.__init__ (from tensorflow.contrib.learn.python.learn.datasets.mnist) is deprecated and will be removed in a future version.\n",
      "Instructions for updating:\n",
      "Please use alternatives such as official/mnist/dataset.py from tensorflow/models.\n"
     ]
    }
   ],
   "source": [
    "# This might throw some warnings \n",
    "mnist = tf.contrib.learn.datasets.load_dataset(\"mnist\")\n",
    "train_data = mnist.train.images \n",
    "train_labels = np.asarray(mnist.train.labels, dtype=np.int32)\n",
    "eval_data = mnist.test.images \n",
    "eval_labels = np.asarray(mnist.test.labels, dtype=np.int32)"
   ]
  },
  {
   "cell_type": "markdown",
   "metadata": {},
   "source": [
    "Let's have a look how one image (and it's corresponding label) might look like. "
   ]
  },
  {
   "cell_type": "code",
   "execution_count": 3,
   "metadata": {},
   "outputs": [
    {
     "name": "stdout",
     "output_type": "stream",
     "text": [
      "Label for this image is  7\n"
     ]
    },
    {
     "data": {
      "image/png": "[encoded data removed]",
      "text/plain": [
       "<Figure size 432x288 with 1 Axes>"
      ]
     },
     "metadata": {},
     "output_type": "display_data"
    }
   ],
   "source": [
    "print(\"Label for this image is \", train_labels[0])\n",
    "plt.imshow(-train_data[0].reshape((28,28)), cmap=\"gray\")\n",
    "plt.show()"
   ]
  },
  {
   "cell_type": "markdown",
   "metadata": {},
   "source": [
    "We will use the following two helper functions and their derivatives. For further detail please refer to: \n",
    "\n",
    "- https://en.wikipedia.org/wiki/Sigmoid_function\n",
    "\n",
    "- https://en.wikipedia.org/wiki/Softmax_function"
   ]
  },
  {
   "cell_type": "code",
   "execution_count": 4,
   "metadata": {},
   "outputs": [],
   "source": [
    "def sigmoid(z, derivative = False): \n",
    "    \"\"\" Sigmoid function (resp. its derivative) of z\n",
    "    \n",
    "    Args: \n",
    "    z -- A np.array (k x 1)\n",
    "    \n",
    "    Returns: \n",
    "    #TODO\n",
    "    \"\"\"\n",
    "    sig = 1/(1+np.exp(-z))\n",
    "    if not derivative:\n",
    "        return sig\n",
    "    else: \n",
    "        return np.diag((sig * (1-sig)).T[0])"
   ]
  },
  {
   "cell_type": "code",
   "execution_count": 5,
   "metadata": {},
   "outputs": [],
   "source": [
    "def softmax(z, derivative = False): \n",
    "    \"\"\" Softmax function (resp. its derivative) of z\n",
    "    \n",
    "    Args: \n",
    "    z -- A np.array (k x 1)\n",
    "    \n",
    "    Returns: \n",
    "    # TODO\n",
    "    \"\"\"\n",
    "    e = np.exp(z)\n",
    "    e = e / np.sum(e, axis = 0)\n",
    "    if not derivative:\n",
    "        return e\n",
    "    else:\n",
    "        D_shape = (len(e),)*2\n",
    "        D = np.zeros(D_shape)\n",
    "        for i in range(len(e)): \n",
    "            for j in range(len(e)):\n",
    "                D[i,j] = e[i]*((i==j)*1-e[j])\n",
    "        return D"
   ]
  },
  {
   "cell_type": "markdown",
   "metadata": {},
   "source": [
    "#### The Architecture of the NN\n",
    "\n",
    "Now we define the architecture of the neural network. In our case the network will have \n",
    "- one input layer with 784 (28 * 28) neurons. Each neuron will represent one pixel of the input image. \n",
    "- Two hidden layers with 64 and 32 neurons and a sigmoid activation function. \n",
    "- An output layer with 10 neurons and softmax activation function. The `i`-th element of the output vector will correspond to the probability that the input image contains digit `i`. \n",
    "\n",
    "This is a fancy way of saying what can be summarized by this equation: \n",
    "\n",
    "$$ \\hat{y} = softmax\\bigg ( W_{2} \\sigma \\big ( W_{1} \\sigma ( W_{0} x + b_{0}) + b_{1} \\big ) + b_{2} \\bigg ) $$\n",
    "\n",
    "where \n",
    "- $\\hat{y}$ is a (10 x 1) vector of output probabilities \n",
    "- $x$ is a (784 x 1) vector representing pixel values of the input image\n",
    "\n",
    "\n",
    "- $softmax$ is the softmax function \n",
    "- $\\sigma$ is the sigmoid function\n",
    "\n",
    "\n",
    "- $W_{2}$ is a (10 x 32) matrix, $b_{2}$ is a (10 x 1) vector\n",
    "- $W_{1}$ is a (32 x 64) matrix, $b_{1}$ is a (32 x 1) vector\n",
    "- $W_{0}$ is a (64 x 784) matrix, $b_{0}$ is a (784 x 1) vector\n",
    "\n",
    "Note that each layer has the general form of \n",
    "$$l(z) = f(Wz + b) $$\n",
    "and the whole neural network consists of just a few layers stacked over each other. The function $f$ is called an activation function, the input vector $z$ (which is often output of the previous layer or the input to the whole nn) is called an input of the layer and the value $f(Wz + b)$ is called the output of the layer. "
   ]
  },
  {
   "cell_type": "code",
   "execution_count": 6,
   "metadata": {},
   "outputs": [],
   "source": [
    "layer_in_size = 28 ** 2\n",
    "layer_1_size = 64\n",
    "layer_2_size = 32\n",
    "layer_out_size = 10"
   ]
  },
  {
   "cell_type": "markdown",
   "metadata": {},
   "source": [
    "We do not yet know what values should the matrices and vectors $W_{i}, b_{i}, i = 0, \\dots, 2$ have, so for now, we initialize them randomly. It is important not to pick the random numbers either too large or too small. Do not worry about this now. "
   ]
  },
  {
   "cell_type": "code",
   "execution_count": 7,
   "metadata": {},
   "outputs": [],
   "source": [
    "W_0 = np.random.randn(layer_1_size, layer_in_size) / np.sqrt(layer_in_size) ## the np.sqrt() term is there \n",
    "b_0 = np.random.randn(layer_1_size, 1)                                      ## so that each entry of the output \n",
    "                                                                            ## vector has variance +/- 1 \n",
    "W_1 = np.random.randn(layer_2_size, layer_1_size) / np.sqrt(layer_1_size)\n",
    "b_1 = np.random.randn(layer_2_size, 1)\n",
    "\n",
    "W_2 = np.random.randn(layer_out_size, layer_2_size) / np.sqrt(layer_2_size)\n",
    "b_2 = np.random.randn(layer_out_size, 1)"
   ]
  },
  {
   "cell_type": "markdown",
   "metadata": {},
   "source": [
    "Finally we write in python the function (our neural network), that calculates the output probabilities from input image $x$ and $W$'s and $b$'s."
   ]
  },
  {
   "cell_type": "code",
   "execution_count": 8,
   "metadata": {},
   "outputs": [],
   "source": [
    "def forward_pass(x, W_0, W_1, W_2, b_0, b_1, b_2): \n",
    "    \"\"\"\n",
    "    Forward pass of the neural network \n",
    "    \n",
    "    Args: \n",
    "    x -- A `np.array` of shape (784,1), \n",
    "        represents the input image. \n",
    "    W_0, W_1, W_2, b_0, b_1, b_2 -- A `np.arrays` \n",
    "        of shapes \n",
    "        (64, 784), \n",
    "        (32, 64), \n",
    "        (10, 32), \n",
    "        (64, 1), \n",
    "        (32, 1), \n",
    "        (10, 1) respectively. \n",
    "        These represent the trainable \n",
    "        parameters of the neural network.\n",
    "        \n",
    "    Returns:\n",
    "    a_2, z_2, a_1, z_1, a_0, z_0 -- A `np.arrays` \n",
    "        of shapes \n",
    "        # TODO\n",
    "        These represent the outputs (#TODO -- terminology for z)\n",
    "        /activations of the nn's layers. \n",
    "    \"\"\"\n",
    "    z_0 = W_0 @ x + b_0\n",
    "    a_0 = sigmoid(z_0)\n",
    "    \n",
    "    z_1 = W_1 @ a_0 + b_1\n",
    "    a_1 = sigmoid(z_1)\n",
    "    \n",
    "    z_2 = W_2 @ a_1 + b_2\n",
    "    a_2 = softmax(z_2)\n",
    "    \n",
    "    return a_2, z_2, a_1, z_1, a_0, z_0"
   ]
  },
  {
   "cell_type": "markdown",
   "metadata": {},
   "source": [
    "Having defined our neural network we need to evaluate how well it actually recognizes the images. For the purpose of this, we could use for example the percentage of correctly identified images from the test set. "
   ]
  },
  {
   "cell_type": "code",
   "execution_count": 9,
   "metadata": {},
   "outputs": [],
   "source": [
    "def calculate_accuracy(W_0, W_1, W_2, b_0, b_1, b_2, eval_data, eval_labels): \n",
    "    \"\"\" Calculates the percentage of correctly identified images on eval_data, eval_labels\n",
    "    \"\"\"\n",
    "    predicted_digits = np.argmax(W_2 @ sigmoid(W_1 @ sigmoid(W_0 @ eval_data.T + b_0) + b_1) + b_2, axis = 0)\n",
    "    acc = np.mean(predicted_digits == eval_labels)\n",
    "    return acc"
   ]
  },
  {
   "cell_type": "code",
   "execution_count": 10,
   "metadata": {},
   "outputs": [
    {
     "name": "stdout",
     "output_type": "stream",
     "text": [
      "Accuracy on the test set is  9.8 %\n"
     ]
    }
   ],
   "source": [
    "acc = calculate_accuracy(W_0, W_1, W_2, b_0, b_1, b_2, eval_data, eval_labels)\n",
    "print(\"Accuracy on the test set is \", acc * 100, \"%\")"
   ]
  },
  {
   "cell_type": "markdown",
   "metadata": {},
   "source": [
    "As we can see, the network has about 10% accuracy on the test set. This is as good as random guess, which is no wonder since we initilized the parameters $W, b$ randomly. \n",
    "\n",
    "Luckily, we can do something about that. First let's ditch the accuracy function we defined above and use another function called cross entropy. Having a prediction $\\hat{y}$ and true label $y$ the cross entropy is defined as $$- y * \\log{\\hat{y}}$$ where $y$ is a vector with 9 zeros and 1 one, which location corresponds to the label digit.  \n",
    "\n",
    "The reason for this change is that the cross entropy is much more precise measure of how good the nn predicts the outputs. Be careful that SMALLER cross entropy means bette predictions. # TODO - explain why"
   ]
  },
  {
   "cell_type": "code",
   "execution_count": 11,
   "metadata": {},
   "outputs": [],
   "source": [
    "def loss(y_hat, y): \n",
    "    \"\"\" Cross Entropy \n",
    "    Args: \n",
    "    y -- A `np.array` of shape (10, 1) with 9 zeros \n",
    "        and 1 one. Represents the true label.  \n",
    "    y_hat -- A `np.array` of shape (10, 1) containing \n",
    "        probabilities, sums up to one. \n",
    "        \n",
    "    Returns: \n",
    "    cross_entropy -- # TODO\n",
    "    \"\"\"\n",
    "    cross_entropy = -np.sum(y * np.log(y_hat), axis=0)\n",
    "    return cross_entropy"
   ]
  },
  {
   "cell_type": "markdown",
   "metadata": {},
   "source": [
    "Now we have a function (the cross entropy) that measures how good (resp. bad) is a particular choice of $W, b$ in recognizing the digits on images, we can fiddle with the values of $W, b$ and try to maximize (resp. minimize) this function (which is btw. called the loss function in the case of minimization) to achieve the best results in this task. \n",
    "\n",
    "To sumarize, we will now try to minimize \n",
    "\n",
    " $J(x, y, W_0, W_1, W_2, b_0, b_1, b_2) = - y * \\log \\bigg \\lbrace softmax\\bigg ( W_{2} \\sigma \\big ( W_{1} \\sigma ( W_{0} x + b_{0}) + b_{1} \\big ) + b_{2} \\bigg ) \\bigg \\rbrace $\n",
    " \n",
    "with respect to $W_0, W_1, W_2, b_0, b_1, b_2$ across all observations $x, y$, where x = input image, y = output label. To do this we we will use a method called stochastic gradient descent. For this, we will need to calculate gradients of $J$ with respect to $W$'s and $b$'s. \n",
    "\n",
    "\n",
    "This is definitely the hardest part and probably a good time to refresh some matrix calculus. \n",
    "\n",
    "One non-standard rule useful for derivation of the gradients is: \n",
    "$$ \\frac{\\partial}{\\partial W} y^{\\top} f (W z) = (y^{\\top} \\nabla f(W z))^{\\top} z^{\\top} $$"
   ]
  },
  {
   "cell_type": "code",
   "execution_count": 12,
   "metadata": {},
   "outputs": [],
   "source": [
    "def backward_pass(x, y, \\\n",
    "                  a_2, z_2, a_1, z_1, a_0, z_0, \\\n",
    "                  W_0, W_1, W_2, b_0, b_1, b_2):\n",
    "    \"\"\"\n",
    "    Calculates gradients of J w.r.t. W_0, W_1, W_2, b_0, b_1, b_2\n",
    "    \n",
    "    Args: \n",
    "    x -- A `np.array` of shape (784,1), \n",
    "        represents the input image. \n",
    "    y -- A `np.array` of shape (10, 1) with 9 zeros \n",
    "        and 1 one. Represents the true label. \n",
    "    a_2, z_2, a_1, z_1, a_0, z_0 -- A `np.array`s \n",
    "        the output of forward pass. \n",
    "    W_0, W_1, W_2, b_0, b_1, b_2 -- A `np.array`s \n",
    "        the parameters of the nn. \n",
    "        \n",
    "    Returns: \n",
    "    dW_0, dW_1, dW_2, db_0.T, db_1.T, db_2.T -- A `np.array`s, \n",
    "        the gradients of J w.r.t. Ws and bs\n",
    "    \"\"\"\n",
    "    db_2 = - y.T @ np.diag(1/a_2.T[0]) @ softmax(z_2, derivative=True)\n",
    "    dW_2 = db_2.T @ a_1.T\n",
    "    \n",
    "    db_1 = db_2 @ W_2 @ sigmoid(z_1, derivative=True) \n",
    "    dW_1 = db_1.T @ a_0.T\n",
    "    \n",
    "    db_0 = db_1 @ W_1 @ sigmoid(z_0, derivative=True)\n",
    "    dW_0 = db_0.T @ x.T\n",
    "    \n",
    "    return dW_0, dW_1, dW_2, db_0.T, db_1.T, db_2.T"
   ]
  },
  {
   "cell_type": "markdown",
   "metadata": {},
   "source": [
    "Finally we can train the network. At each step we do \n",
    "- the forward pass and calculate the activations \n",
    "- we use the activations to calculate the gradients \n",
    "- we update the parameters of the nn using the obtained gradients \n",
    "\n"
   ]
  },
  {
   "cell_type": "code",
   "execution_count": 13,
   "metadata": {},
   "outputs": [
    {
     "name": "stdout",
     "output_type": "stream",
     "text": [
      "Accuracy in iteration  0 is 0.098\n",
      "Accuracy in iteration  100 is 0.6595\n",
      "Accuracy in iteration  200 is 0.8317\n",
      "Accuracy in iteration  300 is 0.8388\n",
      "Accuracy in iteration  400 is 0.8964\n",
      "Accuracy in iteration  500 is 0.9004\n",
      "Accuracy in iteration  600 is 0.9073\n",
      "Accuracy in iteration  700 is 0.915\n",
      "Accuracy in iteration  800 is 0.9178\n",
      "Accuracy in iteration  900 is 0.9188\n"
     ]
    }
   ],
   "source": [
    "train_steps = 1000      # How many times to repeat the gradient descent \n",
    "batch_size = 32         # How many x-y observations to use for the gradient calculation in one step \n",
    "learning_rate = 1.0     # How much to update the parameters using the calculated gradients \n",
    "\n",
    "for i in range(train_steps): \n",
    "    # Check out the original accuracy from time to time\n",
    "    accuracy = calculate_accuracy(W_0, W_1, W_2, b_0, b_1, b_2, eval_data, eval_labels)\n",
    "    if i % 100 == 0:\n",
    "        print(\"Accuracy in iteration \", i, \"is\", accuracy)\n",
    "    \n",
    "    # Select the x,y observations for the gradient calculation\n",
    "    batch_indices = np.random.choice(train_data.shape[0], batch_size)\n",
    "    x_batch = train_data[batch_indices]\n",
    "    y_batch = np.zeros((batch_size, layer_out_size)) \n",
    "    y_batch[range(batch_size), train_labels[batch_indices]] = 1\n",
    "\n",
    "    # Initilize the gradients \n",
    "    grad = [np.zeros_like(t) for t in [W_0, W_1, W_2, b_0, b_1, b_2]]\n",
    "\n",
    "    # Calculate the gradient for each (x,y) pair separately and add to the \n",
    "    # total gradient \n",
    "    for j in range(batch_size): \n",
    "        x = x_batch[j].reshape(-1,1)\n",
    "        y = y_batch[j].reshape(-1,1)\n",
    "        a_2, z_2, a_1, z_1, a_0, z_0 = forward_pass(x, W_0, W_1, W_2, b_0, b_1, b_2)\n",
    "        dt = backward_pass(x, y, \\\n",
    "                      a_2, z_2, a_1, z_1, a_0, z_0, \\\n",
    "                      W_0, W_1, W_2, b_0, b_1, b_2)\n",
    "        grad = [g + g_inc for g,g_inc in zip(grad, dt)]\n",
    "\n",
    "    # Divide the sum of gradients by the number of observations \n",
    "    grad = [g / batch_size for g in grad]\n",
    "    dW_0, dW_1, dW_2, db_0, db_1, db_2 = grad\n",
    "\n",
    "    # Update the parameters \n",
    "    W_0 = W_0 - learning_rate * dW_0\n",
    "    W_1 = W_1 - learning_rate * dW_1\n",
    "    W_2 = W_2 - learning_rate * dW_2\n",
    "    b_0 = b_0 - learning_rate * db_0\n",
    "    b_1 = b_1 - learning_rate * db_1\n",
    "    b_2 = b_2 - learning_rate * db_2\n",
    "    \n",
    "print(\"Training done. \")"
   ]
  },
  {
   "cell_type": "markdown",
   "metadata": {},
   "source": [
    "Now let's see how the network does on some evaluation data. "
   ]
  },
  {
   "cell_type": "code",
   "execution_count": 17,
   "metadata": {},
   "outputs": [
    {
     "name": "stdout",
     "output_type": "stream",
     "text": [
      "The predicted number is:  5\n"
     ]
    },
    {
     "data": {
      "image/png": "[encoded data removed]",
      "text/plain": [
       "<Figure size 432x288 with 1 Axes>"
      ]
     },
     "metadata": {},
     "output_type": "display_data"
    }
   ],
   "source": [
    "image_number = 23 # Number between 0 and 10 000 \n",
    "\n",
    "x = eval_data[image_number]\n",
    "y = np.argmax(forward_pass(x.reshape(784, 1), W_0, W_1, W_2, b_0, b_1, b_2)[0])\n",
    "print(\"The predicted number is: \", y)\n",
    "plt.imshow(-x.reshape((28,28)), cmap=\"gray\")\n",
    "plt.show()"
   ]
  },
  {
   "cell_type": "code",
   "execution_count": null,
   "metadata": {},
   "outputs": [],
   "source": []
  }
 ],
 "metadata": {
  "kernelspec": {
   "display_name": "Python 3",
   "language": "python",
   "name": "python3"
  },
  "language_info": {
   "codemirror_mode": {
    "name": "ipython",
    "version": 3
   },
   "file_extension": ".py",
   "mimetype": "text/x-python",
   "name": "python",
   "nbconvert_exporter": "python",
   "pygments_lexer": "ipython3",
   "version": "3.7.0b3"
  }
 },
 "nbformat": 4,
 "nbformat_minor": 2
}
