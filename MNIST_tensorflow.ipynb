{
 "cells": [
  {
   "cell_type": "markdown",
   "metadata": {},
   "source": [
    "### MNIST Hand-Written Digit Recognition Using Tensorflow \n",
    "\n",
    "In this notebook you will learn how to implement basic neural network for hand-written digit recognition in tensorflow. We assume that you read the `MNIST_numpy.ipynb` notebook where we implement equivalent network in pure numpy. Loading the data and libraries will be the same as there. "
   ]
  },
  {
   "cell_type": "code",
   "execution_count": 1,
   "metadata": {},
   "outputs": [],
   "source": [
    "import numpy as np\n",
    "np.random.seed(0)\n",
    "import tensorflow as tf\n",
    "import matplotlib.pyplot as plt  "
   ]
  },
  {
   "cell_type": "markdown",
   "metadata": {},
   "source": [
    "#### Load the Data"
   ]
  },
  {
   "cell_type": "code",
   "execution_count": 2,
   "metadata": {},
   "outputs": [
    {
     "name": "stdout",
     "output_type": "stream",
     "text": [
      "WARNING:tensorflow:From <ipython-input-2-4ecd413c7aa3>:1: load_dataset (from tensorflow.contrib.learn.python.learn.datasets) is deprecated and will be removed in a future version.\n",
      "Instructions for updating:\n",
      "Please use tf.data.\n",
      "WARNING:tensorflow:From C:\\WinPython\\python-3.7.0b3.amd64\\lib\\site-packages\\tensorflow\\contrib\\learn\\python\\learn\\datasets\\__init__.py:80: load_mnist (from tensorflow.contrib.learn.python.learn.datasets.mnist) is deprecated and will be removed in a future version.\n",
      "Instructions for updating:\n",
      "Please use alternatives such as official/mnist/dataset.py from tensorflow/models.\n",
      "WARNING:tensorflow:From C:\\WinPython\\python-3.7.0b3.amd64\\lib\\site-packages\\tensorflow\\contrib\\learn\\python\\learn\\datasets\\mnist.py:300: read_data_sets (from tensorflow.contrib.learn.python.learn.datasets.mnist) is deprecated and will be removed in a future version.\n",
      "Instructions for updating:\n",
      "Please use alternatives such as official/mnist/dataset.py from tensorflow/models.\n",
      "WARNING:tensorflow:From C:\\WinPython\\python-3.7.0b3.amd64\\lib\\site-packages\\tensorflow\\contrib\\learn\\python\\learn\\datasets\\mnist.py:260: maybe_download (from tensorflow.contrib.learn.python.learn.datasets.base) is deprecated and will be removed in a future version.\n",
      "Instructions for updating:\n",
      "Please write your own downloading logic.\n",
      "WARNING:tensorflow:From C:\\WinPython\\python-3.7.0b3.amd64\\lib\\site-packages\\tensorflow\\contrib\\learn\\python\\learn\\datasets\\mnist.py:262: extract_images (from tensorflow.contrib.learn.python.learn.datasets.mnist) is deprecated and will be removed in a future version.\n",
      "Instructions for updating:\n",
      "Please use tf.data to implement this functionality.\n",
      "Extracting MNIST-data\\train-images-idx3-ubyte.gz\n",
      "WARNING:tensorflow:From C:\\WinPython\\python-3.7.0b3.amd64\\lib\\site-packages\\tensorflow\\contrib\\learn\\python\\learn\\datasets\\mnist.py:267: extract_labels (from tensorflow.contrib.learn.python.learn.datasets.mnist) is deprecated and will be removed in a future version.\n",
      "Instructions for updating:\n",
      "Please use tf.data to implement this functionality.\n",
      "Extracting MNIST-data\\train-labels-idx1-ubyte.gz\n",
      "Extracting MNIST-data\\t10k-images-idx3-ubyte.gz\n",
      "Extracting MNIST-data\\t10k-labels-idx1-ubyte.gz\n",
      "WARNING:tensorflow:From C:\\WinPython\\python-3.7.0b3.amd64\\lib\\site-packages\\tensorflow\\contrib\\learn\\python\\learn\\datasets\\mnist.py:290: DataSet.__init__ (from tensorflow.contrib.learn.python.learn.datasets.mnist) is deprecated and will be removed in a future version.\n",
      "Instructions for updating:\n",
      "Please use alternatives such as official/mnist/dataset.py from tensorflow/models.\n"
     ]
    }
   ],
   "source": [
    "mnist = tf.contrib.learn.datasets.load_dataset(\"mnist\")\n",
    "train_data = mnist.train.images \n",
    "train_labels = np.asarray(mnist.train.labels, dtype=np.int32)\n",
    "eval_data = mnist.test.images \n",
    "eval_labels = np.asarray(mnist.test.labels, dtype=np.int32)"
   ]
  },
  {
   "cell_type": "markdown",
   "metadata": {},
   "source": [
    "#### Define the Tensorflow Graph"
   ]
  },
  {
   "cell_type": "code",
   "execution_count": 3,
   "metadata": {},
   "outputs": [],
   "source": [
    "layer_in_size = 28 ** 2\n",
    "layer_1_size = 64\n",
    "layer_2_size = 32\n",
    "layer_out_size = 10"
   ]
  },
  {
   "cell_type": "code",
   "execution_count": 4,
   "metadata": {},
   "outputs": [],
   "source": [
    "W_0 = np.random.randn(layer_1_size, layer_in_size) / np.sqrt(layer_in_size) ## the np.sqrt() term is there \n",
    "b_0 = np.random.randn(layer_1_size, 1)                                      ## so that each entry of the output \n",
    "                                                                            ## vector has variance +/- 1 \n",
    "W_1 = np.random.randn(layer_2_size, layer_1_size) / np.sqrt(layer_1_size)\n",
    "b_1 = np.random.randn(layer_2_size, 1)\n",
    "\n",
    "W_2 = np.random.randn(layer_out_size, layer_2_size) / np.sqrt(layer_2_size)\n",
    "b_2 = np.random.randn(layer_out_size, 1)"
   ]
  },
  {
   "cell_type": "markdown",
   "metadata": {},
   "source": [
    "Now we have defined the architecture of our neural network and set the initial values of its parameters it is time to implement the neural network itself. This is equivalent to the `forward_pass` function in the `MNIST_numpy` notebook. Note that we do not work directly with the $W$s, $b$s or $x$, but instead we define abstract entities that represent them (we use `tf.Variable` for model variables and `tf.placeholder` for data) so we can feed them the actual values later. Bunch of these entities connected together via mathematical operations is called a tensorflow graph. "
   ]
  },
  {
   "cell_type": "code",
   "execution_count": 5,
   "metadata": {},
   "outputs": [],
   "source": [
    "x_tf = tf.placeholder(shape = (layer_in_size, 1), dtype = tf.float32)\n",
    "y_tf = tf.placeholder(shape = (layer_out_size, 1), dtype = tf.float32)\n",
    "\n",
    "W_0_tf = tf.Variable(initial_value = W_0, dtype = tf.float32) \n",
    "b_0_tf = tf.Variable(initial_value = b_0, dtype = tf.float32)\n",
    "\n",
    "W_1_tf = tf.Variable(initial_value = W_1, dtype = tf.float32) \n",
    "b_1_tf = tf.Variable(initial_value = b_1, dtype = tf.float32)\n",
    "\n",
    "W_2_tf = tf.Variable(initial_value = W_2, dtype = tf.float32) \n",
    "b_2_tf = tf.Variable(initial_value = b_2, dtype = tf.float32)\n",
    "\n",
    "z_0_tf = W_0_tf @ x_tf + b_0_tf\n",
    "a_0_tf = tf.sigmoid(z_0_tf)\n",
    "    \n",
    "z_1_tf = W_1_tf @ a_0_tf + b_1_tf\n",
    "a_1_tf = tf.sigmoid(z_1_tf)\n",
    "    \n",
    "z_2_tf = W_2_tf @ a_1_tf + b_2_tf\n",
    "a_2_tf = tf.nn.softmax(z_2_tf, axis = 0)\n",
    "\n",
    "loss = - tf.transpose(y_tf) @ tf.log(a_2_tf)"
   ]
  },
  {
   "cell_type": "markdown",
   "metadata": {},
   "source": [
    "The big advantage and reason why to use tensorflow is that we do not have to define the `backward_pass` function, tensorflow can calculate the gradients automatically for us using the function `tf.gradients(loss, ...)`. However we will not use it directly, but we will call built-in tensorflow optimizer (that calls the gradients function anyway). "
   ]
  },
  {
   "cell_type": "code",
   "execution_count": 7,
   "metadata": {},
   "outputs": [],
   "source": [
    "optimizer = tf.train.GradientDescentOptimizer(learning_rate = 0.01)\n",
    "step = optimizer.minimize(loss)"
   ]
  },
  {
   "cell_type": "markdown",
   "metadata": {},
   "source": [
    "#### Train the Neural Network\n",
    "Training of the neural network is now a simple matter. We just need to know how to feed the actual data to the tensorflow graph, this is done using something called a `Session`."
   ]
  },
  {
   "cell_type": "code",
   "execution_count": 8,
   "metadata": {},
   "outputs": [],
   "source": [
    "sess = tf.Session()\n",
    "sess.run(tf.global_variables_initializer())"
   ]
  },
  {
   "cell_type": "code",
   "execution_count": 9,
   "metadata": {},
   "outputs": [
    {
     "name": "stdout",
     "output_type": "stream",
     "text": [
      "Cross entropy  2.6237633\n",
      "Cross entropy  2.101473\n",
      "Cross entropy  0.7653105\n",
      "Cross entropy  0.7523788\n",
      "Cross entropy  1.0206386\n",
      "Cross entropy  0.4656282\n",
      "Cross entropy  0.5245925\n",
      "Cross entropy  0.26203924\n",
      "Cross entropy  1.095953\n",
      "Cross entropy  0.18786305\n"
     ]
    }
   ],
   "source": [
    "batch_size = 32\n",
    "\n",
    "for i in range(batch_size * 1000): \n",
    "    index = np.random.choice(train_data.shape[0])\n",
    "    x = train_data[index].reshape(-1,1)\n",
    "    y = np.zeros((10, 1))\n",
    "    y[train_labels[index]] = 1\n",
    "    loss_eval, _ = sess.run([loss, step], feed_dict = {x_tf : x, y_tf : y})\n",
    "    if i % (batch_size * 100) == 0: \n",
    "        print(\"Cross entropy \",loss_eval[0][0])    "
   ]
  },
  {
   "cell_type": "markdown",
   "metadata": {},
   "source": [
    "#### Try How It Works"
   ]
  },
  {
   "cell_type": "code",
   "execution_count": 14,
   "metadata": {},
   "outputs": [
    {
     "name": "stdout",
     "output_type": "stream",
     "text": [
      "The predicted number is:  3\n"
     ]
    },
    {
     "data": {
      "image/png": "[encoded data removed]",
      "text/plain": [
       "<Figure size 432x288 with 1 Axes>"
      ]
     },
     "metadata": {},
     "output_type": "display_data"
    }
   ],
   "source": [
    "image_number = 93 # Number between 0 and 10 000 \n",
    "\n",
    "x = eval_data[image_number]\n",
    "y = np.argmax(sess.run(a_2_tf, feed_dict = {x_tf : x.reshape(784, 1)}))\n",
    "print(\"The predicted number is: \", y)\n",
    "plt.imshow(-x.reshape((28,28)), cmap=\"gray\")\n",
    "plt.show()"
   ]
  },
  {
   "cell_type": "code",
   "execution_count": null,
   "metadata": {},
   "outputs": [],
   "source": []
  }
 ],
 "metadata": {
  "kernelspec": {
   "display_name": "Python 3",
   "language": "python",
   "name": "python3"
  },
  "language_info": {
   "codemirror_mode": {
    "name": "ipython",
    "version": 3
   },
   "file_extension": ".py",
   "mimetype": "text/x-python",
   "name": "python",
   "nbconvert_exporter": "python",
   "pygments_lexer": "ipython3",
   "version": "3.7.0b3"
  }
 },
 "nbformat": 4,
 "nbformat_minor": 2
}
